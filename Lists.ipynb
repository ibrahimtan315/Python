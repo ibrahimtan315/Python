{
 "cells": [
  {
   "cell_type": "code",
   "execution_count": 2,
   "id": "87dde1de-e1e4-4214-80b0-eef652692af8",
   "metadata": {},
   "outputs": [],
   "source": [
    "myString = \"hello python\""
   ]
  },
  {
   "cell_type": "code",
   "execution_count": 4,
   "id": "4d9cd40d-29cb-4d9b-bd13-c4ca8b36aa80",
   "metadata": {},
   "outputs": [
    {
     "data": {
      "text/plain": [
       "['hello', 'python']"
      ]
     },
     "execution_count": 4,
     "metadata": {},
     "output_type": "execute_result"
    }
   ],
   "source": [
    "myString.split()"
   ]
  },
  {
   "cell_type": "code",
   "execution_count": 6,
   "id": "c126714c-b3b3-454b-a3b9-1ddfe5ad3eb5",
   "metadata": {},
   "outputs": [
    {
     "data": {
      "text/plain": [
       "list"
      ]
     },
     "execution_count": 6,
     "metadata": {},
     "output_type": "execute_result"
    }
   ],
   "source": [
    "type(myString.split())"
   ]
  },
  {
   "cell_type": "code",
   "execution_count": 8,
   "id": "0658f01c-f308-4a69-ae6c-2f0ad34914f5",
   "metadata": {},
   "outputs": [
    {
     "data": {
      "text/plain": [
       "'hello python'"
      ]
     },
     "execution_count": 8,
     "metadata": {},
     "output_type": "execute_result"
    }
   ],
   "source": [
    "myString"
   ]
  },
  {
   "cell_type": "code",
   "execution_count": 10,
   "id": "efce6d6f-d8c0-40fd-9a07-63cace1fdad0",
   "metadata": {},
   "outputs": [
    {
     "ename": "TypeError",
     "evalue": "'str' object does not support item assignment",
     "output_type": "error",
     "traceback": [
      "\u001b[0;31m---------------------------------------------------------------------------\u001b[0m",
      "\u001b[0;31mTypeError\u001b[0m                                 Traceback (most recent call last)",
      "Cell \u001b[0;32mIn[10], line 1\u001b[0m\n\u001b[0;32m----> 1\u001b[0m myString[\u001b[38;5;241m0\u001b[39m] \u001b[38;5;241m=\u001b[39m \u001b[38;5;124m\"\u001b[39m\u001b[38;5;124ma\u001b[39m\u001b[38;5;124m\"\u001b[39m\n",
      "\u001b[0;31mTypeError\u001b[0m: 'str' object does not support item assignment"
     ]
    }
   ],
   "source": [
    "myString[0] = \"a\""
   ]
  },
  {
   "cell_type": "code",
   "execution_count": 12,
   "id": "522aeed9-1e00-4246-b81d-a3dedf2f1ad7",
   "metadata": {},
   "outputs": [],
   "source": [
    "myString = \"ibo\""
   ]
  },
  {
   "cell_type": "code",
   "execution_count": 14,
   "id": "517376f7-71b1-450c-b09a-69aa3a770d59",
   "metadata": {},
   "outputs": [
    {
     "data": {
      "text/plain": [
       "'ibo'"
      ]
     },
     "execution_count": 14,
     "metadata": {},
     "output_type": "execute_result"
    }
   ],
   "source": [
    "myString"
   ]
  },
  {
   "cell_type": "code",
   "execution_count": 16,
   "id": "eb38c857-f26b-45e5-94f7-c72c76389a1a",
   "metadata": {},
   "outputs": [],
   "source": [
    "# komple değiştirebiliriz ama içerisinden bir yeri değiştiremeyiz."
   ]
  },
  {
   "cell_type": "code",
   "execution_count": 18,
   "id": "cebdc8fc-8a03-4b86-b35f-925687a2ab2d",
   "metadata": {},
   "outputs": [],
   "source": [
    "myList = [1,23,4,421,80,100,12]"
   ]
  },
  {
   "cell_type": "code",
   "execution_count": 20,
   "id": "5441fce8-bd34-4149-9e37-5243e92814db",
   "metadata": {},
   "outputs": [
    {
     "data": {
      "text/plain": [
       "[1, 23, 4, 421, 80, 100, 12]"
      ]
     },
     "execution_count": 20,
     "metadata": {},
     "output_type": "execute_result"
    }
   ],
   "source": [
    "myList"
   ]
  },
  {
   "cell_type": "code",
   "execution_count": 22,
   "id": "4ca1d574-11f4-493e-bc97-1a8aabdaaaf8",
   "metadata": {},
   "outputs": [
    {
     "data": {
      "text/plain": [
       "7"
      ]
     },
     "execution_count": 22,
     "metadata": {},
     "output_type": "execute_result"
    }
   ],
   "source": [
    "len(myList)"
   ]
  },
  {
   "cell_type": "code",
   "execution_count": 26,
   "id": "77b5707e-07e0-466a-8436-fc0dc9770584",
   "metadata": {},
   "outputs": [
    {
     "data": {
      "text/plain": [
       "1"
      ]
     },
     "execution_count": 26,
     "metadata": {},
     "output_type": "execute_result"
    }
   ],
   "source": [
    "myList.count(23) # kaç kez tekrar ettiği"
   ]
  },
  {
   "cell_type": "code",
   "execution_count": 28,
   "id": "7b4fa9a5-d4f5-4713-8870-f3a30f6bac63",
   "metadata": {},
   "outputs": [],
   "source": [
    "myList.append(3) # . koyup sonrasında tab a basarak neler çıktığını görebiliriz."
   ]
  },
  {
   "cell_type": "code",
   "execution_count": 30,
   "id": "5b58a807-d8d5-4622-be6c-7c05873e5e38",
   "metadata": {},
   "outputs": [
    {
     "data": {
      "text/plain": [
       "[1, 23, 4, 421, 80, 100, 12, 3]"
      ]
     },
     "execution_count": 30,
     "metadata": {},
     "output_type": "execute_result"
    }
   ],
   "source": [
    "myList"
   ]
  },
  {
   "cell_type": "code",
   "execution_count": 32,
   "id": "2ba3c0d2-95a5-44cc-b52a-3926f59353d3",
   "metadata": {},
   "outputs": [
    {
     "name": "stdout",
     "output_type": "stream",
     "text": [
      "Help on built-in function insert:\n",
      "\n",
      "insert(index, object, /) method of builtins.list instance\n",
      "    Insert object before index.\n",
      "\n"
     ]
    }
   ],
   "source": [
    "help(myList.insert)"
   ]
  },
  {
   "cell_type": "code",
   "execution_count": 34,
   "id": "69b16600-754b-4c14-ba6c-815c89ed56fe",
   "metadata": {},
   "outputs": [],
   "source": [
    "myList.insert(2,35)"
   ]
  },
  {
   "cell_type": "code",
   "execution_count": 36,
   "id": "29046b21-f43f-4f23-bda6-41439cdb5c02",
   "metadata": {},
   "outputs": [
    {
     "data": {
      "text/plain": [
       "[1, 23, 35, 4, 421, 80, 100, 12, 3]"
      ]
     },
     "execution_count": 36,
     "metadata": {},
     "output_type": "execute_result"
    }
   ],
   "source": [
    "myList"
   ]
  },
  {
   "cell_type": "code",
   "execution_count": 40,
   "id": "6634352a-9a64-4048-a95e-857a53952831",
   "metadata": {},
   "outputs": [],
   "source": [
    "myList.sort()"
   ]
  },
  {
   "cell_type": "code",
   "execution_count": 42,
   "id": "7e4e3c14-6905-4b9a-8d8c-ff1e4d4fa8ed",
   "metadata": {},
   "outputs": [
    {
     "data": {
      "text/plain": [
       "[1, 3, 4, 12, 23, 35, 80, 100, 421]"
      ]
     },
     "execution_count": 42,
     "metadata": {},
     "output_type": "execute_result"
    }
   ],
   "source": [
    "myList"
   ]
  },
  {
   "cell_type": "code",
   "execution_count": 44,
   "id": "f07dbb25-2f87-491c-b582-44dc6b33edc1",
   "metadata": {},
   "outputs": [
    {
     "name": "stdin",
     "output_type": "stream",
     "text": [
      "enter x:  35\n"
     ]
    }
   ],
   "source": [
    "x = input(\"enter x: \")"
   ]
  },
  {
   "cell_type": "code",
   "execution_count": 46,
   "id": "a581f393-2e04-4ffd-9e80-747e362a9d8a",
   "metadata": {},
   "outputs": [
    {
     "data": {
      "text/plain": [
       "'35'"
      ]
     },
     "execution_count": 46,
     "metadata": {},
     "output_type": "execute_result"
    }
   ],
   "source": [
    "x"
   ]
  },
  {
   "cell_type": "code",
   "execution_count": 48,
   "id": "5f678f73-5fc1-4f1c-93b9-d8412f1e56f0",
   "metadata": {},
   "outputs": [
    {
     "data": {
      "text/plain": [
       "35"
      ]
     },
     "execution_count": 48,
     "metadata": {},
     "output_type": "execute_result"
    }
   ],
   "source": [
    "int(x)"
   ]
  },
  {
   "cell_type": "code",
   "execution_count": 50,
   "id": "b51440b5-83c9-4e72-a87c-0f8ce9cccb11",
   "metadata": {},
   "outputs": [
    {
     "data": {
      "text/plain": [
       "35.0"
      ]
     },
     "execution_count": 50,
     "metadata": {},
     "output_type": "execute_result"
    }
   ],
   "source": [
    "float(x)"
   ]
  },
  {
   "cell_type": "code",
   "execution_count": null,
   "id": "cc2bc37e-447f-499c-bc18-a64ebc599222",
   "metadata": {},
   "outputs": [],
   "source": []
  }
 ],
 "metadata": {
  "kernelspec": {
   "display_name": "Python 3",
   "language": "python",
   "name": "python3"
  },
  "language_info": {
   "codemirror_mode": {
    "name": "ipython",
    "version": 3
   },
   "file_extension": ".py",
   "mimetype": "text/x-python",
   "name": "python",
   "nbconvert_exporter": "python",
   "pygments_lexer": "ipython3",
   "version": "3.12.7"
  }
 },
 "nbformat": 4,
 "nbformat_minor": 5
}
