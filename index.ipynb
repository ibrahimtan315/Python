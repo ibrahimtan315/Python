{
 "cells": [
  {
   "cell_type": "code",
   "execution_count": 1,
   "id": "b20d6c20-cfde-414a-b580-1e3a893b0639",
   "metadata": {},
   "outputs": [],
   "source": [
    "myString = \"hello python\""
   ]
  },
  {
   "cell_type": "code",
   "execution_count": 3,
   "id": "1829db86-ed58-4830-9fde-8968d978b200",
   "metadata": {},
   "outputs": [
    {
     "data": {
      "text/plain": [
       "'o'"
      ]
     },
     "execution_count": 3,
     "metadata": {},
     "output_type": "execute_result"
    }
   ],
   "source": [
    "myString[4]"
   ]
  },
  {
   "cell_type": "code",
   "execution_count": 5,
   "id": "8edbbc08-c889-48bb-be50-3b8ac09d47a3",
   "metadata": {},
   "outputs": [
    {
     "data": {
      "text/plain": [
       "'h'"
      ]
     },
     "execution_count": 5,
     "metadata": {},
     "output_type": "execute_result"
    }
   ],
   "source": [
    "myString[0]"
   ]
  },
  {
   "cell_type": "code",
   "execution_count": 7,
   "id": "d131f577-3110-4d87-9b52-d7e2a7c0e4a9",
   "metadata": {},
   "outputs": [
    {
     "ename": "IndexError",
     "evalue": "string index out of range",
     "output_type": "error",
     "traceback": [
      "\u001b[0;31m---------------------------------------------------------------------------\u001b[0m",
      "\u001b[0;31mIndexError\u001b[0m                                Traceback (most recent call last)",
      "Cell \u001b[0;32mIn[7], line 1\u001b[0m\n\u001b[0;32m----> 1\u001b[0m myString[\u001b[38;5;241m12\u001b[39m]\n",
      "\u001b[0;31mIndexError\u001b[0m: string index out of range"
     ]
    }
   ],
   "source": [
    "myString[12]"
   ]
  },
  {
   "cell_type": "code",
   "execution_count": 9,
   "id": "080f3a9a-337f-4e19-bb29-35faf7f1eae0",
   "metadata": {},
   "outputs": [
    {
     "data": {
      "text/plain": [
       "'o'"
      ]
     },
     "execution_count": 9,
     "metadata": {},
     "output_type": "execute_result"
    }
   ],
   "source": [
    "myString[10]"
   ]
  },
  {
   "cell_type": "code",
   "execution_count": 11,
   "id": "380ff9e7-973e-492c-99e0-997af4ea3aa3",
   "metadata": {},
   "outputs": [
    {
     "data": {
      "text/plain": [
       "'hello python'"
      ]
     },
     "execution_count": 11,
     "metadata": {},
     "output_type": "execute_result"
    }
   ],
   "source": [
    "myString"
   ]
  },
  {
   "cell_type": "code",
   "execution_count": 13,
   "id": "e8b43354-9212-4593-8e7b-10f3c4345bc4",
   "metadata": {},
   "outputs": [
    {
     "data": {
      "text/plain": [
       "'h'"
      ]
     },
     "execution_count": 13,
     "metadata": {},
     "output_type": "execute_result"
    }
   ],
   "source": [
    "myString[:1]"
   ]
  },
  {
   "cell_type": "code",
   "execution_count": 15,
   "id": "69ef3e83-14ed-4e5f-a641-898cbef07489",
   "metadata": {},
   "outputs": [
    {
     "data": {
      "text/plain": [
       "''"
      ]
     },
     "execution_count": 15,
     "metadata": {},
     "output_type": "execute_result"
    }
   ],
   "source": [
    "myString[:0]"
   ]
  },
  {
   "cell_type": "code",
   "execution_count": 17,
   "id": "24e918c3-61f6-4e15-838d-cae6750648cf",
   "metadata": {},
   "outputs": [
    {
     "data": {
      "text/plain": [
       "'h'"
      ]
     },
     "execution_count": 17,
     "metadata": {},
     "output_type": "execute_result"
    }
   ],
   "source": [
    "myString[:1]"
   ]
  },
  {
   "cell_type": "code",
   "execution_count": 19,
   "id": "69b7aacd-212d-4e88-9fdb-10ddb6325b4d",
   "metadata": {},
   "outputs": [
    {
     "data": {
      "text/plain": [
       "'hello'"
      ]
     },
     "execution_count": 19,
     "metadata": {},
     "output_type": "execute_result"
    }
   ],
   "source": [
    "myString[:5]"
   ]
  },
  {
   "cell_type": "code",
   "execution_count": 21,
   "id": "401c7c4c-86ec-42d3-bfe7-5ee5eb52ff95",
   "metadata": {},
   "outputs": [
    {
     "data": {
      "text/plain": [
       "'n'"
      ]
     },
     "execution_count": 21,
     "metadata": {},
     "output_type": "execute_result"
    }
   ],
   "source": [
    "myString[-1]"
   ]
  },
  {
   "cell_type": "code",
   "execution_count": 23,
   "id": "a7f08120-ef34-4e84-bec5-3bb381704f1b",
   "metadata": {},
   "outputs": [
    {
     "data": {
      "text/plain": [
       "'o'"
      ]
     },
     "execution_count": 23,
     "metadata": {},
     "output_type": "execute_result"
    }
   ],
   "source": [
    "myString[-2]"
   ]
  },
  {
   "cell_type": "code",
   "execution_count": 25,
   "id": "883522b2-4b9d-4564-bc72-11175ed07f2d",
   "metadata": {},
   "outputs": [],
   "source": [
    "barcode = \"ABCDE123123982\" #Diyelimki bu bir barkod olsun ve ilk 3 harf her yerde ortak olsun bize 3 harften sonrası lazım olursa."
   ]
  },
  {
   "cell_type": "code",
   "execution_count": 33,
   "id": "fe56770c-aea8-41a9-818a-0a08a190ef3a",
   "metadata": {},
   "outputs": [
    {
     "data": {
      "text/plain": [
       "'DE123123982'"
      ]
     },
     "execution_count": 33,
     "metadata": {},
     "output_type": "execute_result"
    }
   ],
   "source": [
    "barcode[3:]"
   ]
  },
  {
   "cell_type": "code",
   "execution_count": 35,
   "id": "c4f2f32d-d4eb-43bf-a3ca-65e8292fb143",
   "metadata": {},
   "outputs": [
    {
     "data": {
      "text/plain": [
       "'123123'"
      ]
     },
     "execution_count": 35,
     "metadata": {},
     "output_type": "execute_result"
    }
   ],
   "source": [
    "barcode[5:-3]"
   ]
  },
  {
   "cell_type": "code",
   "execution_count": 37,
   "id": "762b1021-6c8d-47c8-8b49-2ade814bc73e",
   "metadata": {},
   "outputs": [
    {
     "data": {
      "text/plain": [
       "'ABCD'"
      ]
     },
     "execution_count": 37,
     "metadata": {},
     "output_type": "execute_result"
    }
   ],
   "source": [
    "barcode[:4]"
   ]
  },
  {
   "cell_type": "code",
   "execution_count": 39,
   "id": "2f2f5aab-f52f-41f8-b6b3-a6c560916e82",
   "metadata": {},
   "outputs": [
    {
     "data": {
      "text/plain": [
       "'ABC'"
      ]
     },
     "execution_count": 39,
     "metadata": {},
     "output_type": "execute_result"
    }
   ],
   "source": [
    "barcode[:3]"
   ]
  },
  {
   "cell_type": "code",
   "execution_count": 41,
   "id": "a6065af8-36e1-47f8-8d7a-84ff1b478523",
   "metadata": {},
   "outputs": [],
   "source": [
    "# barcode[starting index:stopping index:stepping size]"
   ]
  },
  {
   "cell_type": "code",
   "execution_count": 43,
   "id": "75f15e3b-4aa9-4650-8c4d-f67af2c6eaba",
   "metadata": {},
   "outputs": [
    {
     "data": {
      "text/plain": [
       "'DE123123982'"
      ]
     },
     "execution_count": 43,
     "metadata": {},
     "output_type": "execute_result"
    }
   ],
   "source": [
    "barcode[3::]"
   ]
  },
  {
   "cell_type": "code",
   "execution_count": 45,
   "id": "1ca7e98b-66e0-441c-9291-98bdf1feaea1",
   "metadata": {},
   "outputs": [
    {
     "ename": "ValueError",
     "evalue": "slice step cannot be zero",
     "output_type": "error",
     "traceback": [
      "\u001b[0;31m---------------------------------------------------------------------------\u001b[0m",
      "\u001b[0;31mValueError\u001b[0m                                Traceback (most recent call last)",
      "Cell \u001b[0;32mIn[45], line 1\u001b[0m\n\u001b[0;32m----> 1\u001b[0m barcode[\u001b[38;5;241m2\u001b[39m:\u001b[38;5;241m1\u001b[39m:\u001b[38;5;241m0\u001b[39m]\n",
      "\u001b[0;31mValueError\u001b[0m: slice step cannot be zero"
     ]
    }
   ],
   "source": [
    "barcode[2:1:0]"
   ]
  },
  {
   "cell_type": "code",
   "execution_count": 47,
   "id": "772197d7-7b21-4ad1-910d-9402b7dc3144",
   "metadata": {},
   "outputs": [
    {
     "data": {
      "text/plain": [
       "'BCDE123'"
      ]
     },
     "execution_count": 47,
     "metadata": {},
     "output_type": "execute_result"
    }
   ],
   "source": [
    "barcode[1:8:1]"
   ]
  },
  {
   "cell_type": "code",
   "execution_count": 49,
   "id": "26bec006-1e68-406d-81e9-498380fbc5c6",
   "metadata": {},
   "outputs": [
    {
     "data": {
      "text/plain": [
       "'ABCDE123123982'"
      ]
     },
     "execution_count": 49,
     "metadata": {},
     "output_type": "execute_result"
    }
   ],
   "source": [
    "barcode[0::1]"
   ]
  },
  {
   "cell_type": "code",
   "execution_count": 51,
   "id": "d462ad2b-c0d0-4f77-87bb-6d3d84fa2f5c",
   "metadata": {},
   "outputs": [
    {
     "data": {
      "text/plain": [
       "'ACE2138'"
      ]
     },
     "execution_count": 51,
     "metadata": {},
     "output_type": "execute_result"
    }
   ],
   "source": [
    "barcode[::2]"
   ]
  },
  {
   "cell_type": "code",
   "execution_count": 53,
   "id": "366f7550-603c-4f0d-9224-ede0412b4157",
   "metadata": {},
   "outputs": [
    {
     "data": {
      "text/plain": [
       "'289321321EDCBA'"
      ]
     },
     "execution_count": 53,
     "metadata": {},
     "output_type": "execute_result"
    }
   ],
   "source": [
    "barcode[::-1]"
   ]
  },
  {
   "cell_type": "code",
   "execution_count": 55,
   "id": "89f17d93-1d25-463c-a7f2-d813599aed4f",
   "metadata": {},
   "outputs": [
    {
     "data": {
      "text/plain": [
       "''"
      ]
     },
     "execution_count": 55,
     "metadata": {},
     "output_type": "execute_result"
    }
   ],
   "source": [
    "barcode[1:2:-1]"
   ]
  },
  {
   "cell_type": "code",
   "execution_count": 59,
   "id": "7e10bbd3-e6db-47a4-9a26-6bbcbb9e4e80",
   "metadata": {},
   "outputs": [
    {
     "data": {
      "text/plain": [
       "'29231DB'"
      ]
     },
     "execution_count": 59,
     "metadata": {},
     "output_type": "execute_result"
    }
   ],
   "source": [
    "barcode[::-2] # tersen 2 şer 2 şer atlayarak geldi."
   ]
  },
  {
   "cell_type": "code",
   "execution_count": 61,
   "id": "3da7c128-e4e3-46ca-ad40-82224325bc3d",
   "metadata": {},
   "outputs": [
    {
     "ename": "NameError",
     "evalue": "name 'barcoda' is not defined",
     "output_type": "error",
     "traceback": [
      "\u001b[0;31m---------------------------------------------------------------------------\u001b[0m",
      "\u001b[0;31mNameError\u001b[0m                                 Traceback (most recent call last)",
      "Cell \u001b[0;32mIn[61], line 1\u001b[0m\n\u001b[0;32m----> 1\u001b[0m barcoda\u001b[38;5;241m.\u001b[39mindex(\u001b[38;5;124m\"\u001b[39m\u001b[38;5;124mA\u001b[39m\u001b[38;5;124m\"\u001b[39m)\n",
      "\u001b[0;31mNameError\u001b[0m: name 'barcoda' is not defined"
     ]
    }
   ],
   "source": [
    "barcoda.index(\"A\")"
   ]
  },
  {
   "cell_type": "code",
   "execution_count": 63,
   "id": "9ebfaf28-df20-4d5c-93a8-f63c27b763c1",
   "metadata": {},
   "outputs": [
    {
     "data": {
      "text/plain": [
       "0"
      ]
     },
     "execution_count": 63,
     "metadata": {},
     "output_type": "execute_result"
    }
   ],
   "source": [
    "barcode.index(\"A\")"
   ]
  },
  {
   "cell_type": "code",
   "execution_count": null,
   "id": "8ec93f5a-bbd7-4265-8923-4fa6d5b5fd73",
   "metadata": {},
   "outputs": [],
   "source": []
  }
 ],
 "metadata": {
  "kernelspec": {
   "display_name": "Python 3",
   "language": "python",
   "name": "python3"
  },
  "language_info": {
   "codemirror_mode": {
    "name": "ipython",
    "version": 3
   },
   "file_extension": ".py",
   "mimetype": "text/x-python",
   "name": "python",
   "nbconvert_exporter": "python",
   "pygments_lexer": "ipython3",
   "version": "3.12.7"
  }
 },
 "nbformat": 4,
 "nbformat_minor": 5
}
